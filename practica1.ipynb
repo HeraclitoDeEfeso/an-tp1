{
 "cells": [
  {
   "cell_type": "markdown",
   "metadata": {},
   "source": [
    "#### Ejercicio 5\n",
    "Si quiero calcular $\\sum_{n=1}^{\\infty} x_n$ con un error menor a $\\epsilon$, \n",
    "dejo de sumar cuando $\\left|x_n\\right|<\\epsilon$? Ver con $\\sum_{n=1}^{\\infty} (0.99)^n$\n",
    "y distintos valores de $\\epsilon$. Recordar que $\\sum_{n=1}^{\\infty} r^n=\\frac{r}{1-r}$\n",
    "si $\\left|r\\right|<1$.\n",
    "\n",
    "##### Solución:\n",
    "\n",
    "Para un valor $r=0.99$ es claro que la serie converge a $99$, por lo que primero \n",
    "definiremos una función que calcule la suma parcial de la sucesión asociada hasta un \n",
    "término que sea inferior a un $\\epsilon$ dado. "
   ]
  },
  {
   "cell_type": "code",
   "execution_count": 1,
   "metadata": {},
   "outputs": [],
   "source": [
    "from itertools import takewhile, count\n",
    "def serie_geom(razon, minimo):\n",
    "    return sum(razon**x for x in takewhile(lambda x:abs(razon**x)>minimo,count(start=1)))"
   ]
  },
  {
   "cell_type": "markdown",
   "metadata": {},
   "source": [
    "Con ayuda de nuestra función auxiliar `tabla()` (cuyo código se lista en los Anexos) presentamos los valores de la suma parcial ($S_n$) y el error absoluto ($\\varepsilon$) para distintas cotas superiores ($\\epsilon$) del último término a incluir en la sumatoria.  "
   ]
  },
  {
   "cell_type": "code",
   "execution_count": 2,
   "metadata": {},
   "outputs": [
    {
     "data": {
      "text/markdown": [
       "|$\\epsilon$|$S_n$|$\\varepsilon$|\n",
       "|:-:|:-:|:-:\n",
       "|0.1|89.08951844811239|9.910481551887614|\n",
       "|0.01|98.00790257989588|0.9920974201041162|\n",
       "|0.001|98.90068522040785|0.09931477959214874|\n",
       "|0.0001|98.99005800716175|0.009941992838250258|\n",
       "|1e-05|98.99900474811493|0.0009952518850724346|\n"
      ],
      "text/plain": [
       "<IPython.core.display.Markdown object>"
      ]
     },
     "metadata": {},
     "output_type": "display_data"
    }
   ],
   "source": [
    "from auxiliares import tabla\n",
    "tabla(range(-1,-6,-1),['$\\epsilon$','$S_n$','$\\\\varepsilon$'],\n",
    "      [lambda x:10**x,lambda x:serie_geom(0.99,10**x),lambda x:99-serie_geom(0.99,10**x)])"
   ]
  },
  {
   "cell_type": "markdown",
   "metadata": {},
   "source": [
    "Como es posible observar, el error absoluto es dos órdenes superior a la cota elegida para el último término de la suma parcial, de manera que si queremos calcular $\\sum_{n=1}^{\\infty} (0.99)^n$ de forma iterativa y con un error menor a $\\epsilon$ debemos dejar de sumar cuando $\\left|x_n\\right|<\\epsilon\\times 10^{-2}$ "
   ]
  },
  {
   "cell_type": "markdown",
   "metadata": {},
   "source": [
    "#### Ejercicio 6\n",
    "\n",
    "Escribir un programa para calcular\n",
    "$$\n",
    "    f(x)=\\sqrt{x^2+1}-1 \\\\\n",
    "    g(x)=\\frac{x^2}{\\sqrt{x^2+1}+1}\n",
    "$$\n",
    "\n",
    "para la sucesión $8^{-1},8^{-2},8^{-3},\\dotso,8^{-10}$.\n",
    "Aunque $f(x)=g(x)$ la computadora produce resultados distintos, \n",
    "cuál es más confiable?"
   ]
  },
  {
   "cell_type": "markdown",
   "metadata": {},
   "source": [
    "#### Ejercicio 7\n",
    "\n",
    "Escribir un algoritmo para estimar el número de máquina."
   ]
  },
  {
   "cell_type": "markdown",
   "metadata": {},
   "source": [
    "#### Ejercicio 8\n",
    "\n",
    "Sean \n",
    "$$\n",
    "        x=[ 2.718281828, -3.141592654, 1.414213562, 0.5772156649, 0.3010299957] \\\\\n",
    "        y=[ 1486.2497  ,  878366.9879, -22.37429  , 4773714.647 , 0.000185049 ]\n",
    "$$\n",
    "\n",
    "Calcular $\\sum_{i=1}^n x_i y_i$ de la siguientes maneras:\n",
    "\n",
    "1.  para adelante : $\\sum_{i=1}^n  x_i y_i$\n",
    "2.  para atrás : $\\sum_{i=n}^1 x_i y_i$\n",
    "3.  positivos de mayor a menor + negativos de menor a mayor\n",
    "4.  positivos de menor a mayor + negativos de mayor a menor\n",
    "    \n",
    "    Cuál resultado es más confiable y por qué?"
   ]
  },
  {
   "cell_type": "markdown",
   "metadata": {},
   "source": [
    "#### Ejercicio 9\n",
    "\n",
    "Considerar la sucesión \n",
    "$$        \n",
    "    x_0=1,x_1=\\frac{1}{3} \\\\\n",
    "    x_{n+1}=\\frac{13}{3}x_n-\\frac{4}{3}x_{n-1}\n",
    "$$    \n",
    "Dar una fórmula cerrada para $x_n$. Escribir un programa que calcule $x_n$ de \n",
    "ambas formas y comparar <b><sup data_cite=\"bib:none\">[1]</sup></b>. Cuál es más confiable? Por qué?"
   ]
  },
  {
   "cell_type": "markdown",
   "metadata": {},
   "source": [
    "#### Ejercicio 10\n",
    "\n",
    "Consideremos la siguiente modificación de la serie de Fibonacci : \n",
    "$$\n",
    "    r_0=1, r_1=\\frac{1-\\sqrt{5}}{2} \\\\\n",
    "    r_{n+1}=r_n+r_{n-1}\n",
    "$$\n",
    "\n",
    "Cuál es la fórmula cerrada $r_n$? Es la fórmula recursiva una manera estable de calcular $r_n$? \n",
    "Comparar con el ejercicio anterior."
   ]
  },
  {
   "cell_type": "markdown",
   "metadata": {},
   "source": [
    "#### Ejercicio 11\n",
    "Sea\n",
    "$$\n",
    "    y_n= \\int_{0}^{1} x^n e^x dx\n",
    "$$\n",
    "\n",
    "Integrar por partes para obtener una fórmula recurrente para $y_n$. Mostrar que \n",
    "$\\lim_{n \\to \\infty} y_n=1$. Hacer un programa para calcular los primeros 30 \n",
    "términos de $y_n$ y analizar los resultados."
   ]
  }
 ],
 "metadata": {
  "kernelspec": {
   "display_name": "Python 3",
   "language": "python",
   "name": "python3"
  },
  "language_info": {
   "codemirror_mode": {
    "name": "ipython",
    "version": 3
   },
   "file_extension": ".py",
   "mimetype": "text/x-python",
   "name": "python",
   "nbconvert_exporter": "python",
   "pygments_lexer": "ipython3",
   "version": "3.7.4"
  },
  "metadata": {
   "interpreter": {
    "hash": "0600588c3b5f4418cbe7b5ebc6825b479f3bc010269d8b60d75058cdd010adfe"
   }
  },
  "toc-autonumbering": false,
  "toc-showcode": false,
  "toc-showmarkdowntxt": false
 },
 "nbformat": 4,
 "nbformat_minor": 4
}

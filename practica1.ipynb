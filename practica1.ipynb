{
 "metadata": {
  "language_info": {
   "codemirror_mode": {
    "name": "ipython",
    "version": 3
   },
   "file_extension": ".py",
   "mimetype": "text/x-python",
   "name": "python",
   "nbconvert_exporter": "python",
   "pygments_lexer": "ipython3",
   "version": "3.7.4-final"
  },
  "orig_nbformat": 2,
  "kernelspec": {
   "name": "python374jvsc74a57bd00600588c3b5f4418cbe7b5ebc6825b479f3bc010269d8b60d75058cdd010adfe",
   "display_name": "Python 3.7.4 64-bit"
  },
  "metadata": {
   "interpreter": {
    "hash": "0600588c3b5f4418cbe7b5ebc6825b479f3bc010269d8b60d75058cdd010adfe"
   }
  }
 },
 "nbformat": 4,
 "nbformat_minor": 2,
 "cells": [
  {
   "source": [
    "#### Ejercicio 5\n",
    "Si quiero calcular $\\sum_{n=1}^{\\infty} x_n$ con un error menor a $\\epsilon$, dejo de sumar cuando $\\left|x_n\\right|<\\epsilon$? Ver con $\\sum_{n=1}^{\\infty} (0.99)^n$ y distintos valores de $\\epsilon$. Recordar que $\\sum_{n=1}^{\\infty} r^n=\\frac{r}{1-r}$ si $\\left|r\\right|<1$.\n",
    "\n",
    "*Solución*:\n",
    "\n",
    "Para un valor $r=0.99$ es claro que la serie converge a $99$, por lo que primero definiremos una función que calcule la suma parcial de la sucesión asociada hasta un término que sea inferior a un $\\epsilon$ dado. "
   ],
   "cell_type": "markdown",
   "metadata": {}
  },
  {
   "cell_type": "code",
   "execution_count": 1,
   "metadata": {},
   "outputs": [],
   "source": [
    "from itertools import takewhile, count\n",
    "def serie_geom(razon, minimo):\n",
    "    return sum(razon**x for x in takewhile(lambda x:abs(razon**x)>minimo,count(start=1)))"
   ]
  },
  {
   "source": [
    "Con ayuda de nuestra función auxiliar `tabla()` (cuyo código se lista en los Anexos) presentamos los valores de la suma parcial ($S_n$) y el error absoluto ($\\varepsilon$) para distintas cotas superiores ($\\epsilon$) del último término a incluir en la sumatoria.  "
   ],
   "cell_type": "markdown",
   "metadata": {}
  },
  {
   "cell_type": "code",
   "execution_count": 2,
   "metadata": {},
   "outputs": [
    {
     "output_type": "display_data",
     "data": {
      "text/plain": "<IPython.core.display.Markdown object>",
      "text/markdown": "|$\\epsilon$|$S_n$|$\\varepsilon$|\n|:-:|:-:|:-:\n|0.1|89.08951844811239|9.910481551887614|\n|0.01|98.00790257989588|0.9920974201041162|\n|0.001|98.90068522040785|0.09931477959214874|\n|0.0001|98.99005800716175|0.009941992838250258|\n|1e-05|98.99900474811493|0.0009952518850724346|\n"
     },
     "metadata": {}
    }
   ],
   "source": [
    "from auxiliares import tabla\n",
    "tabla(range(-1,-6,-1),['$\\epsilon$','$S_n$','$\\\\varepsilon$'],\n",
    "      [lambda x:10**x,lambda x:serie_geom(0.99,10**x),lambda x:99-serie_geom(0.99,10**x)])"
   ]
  },
  {
   "source": [
    "Como es posible observar, el error absoluto es dos órdenes superior a la cota elegida para el último término de la suma parcial, de manera que si queremos calcular $\\sum_{n=1}^{\\infty} (0.99)^n$ de forma iterativa y con un error menor a $\\epsilon$ debemos dejar de sumar cuando $\\left|x_n\\right|<\\epsilon\\times 10^{-2}$ "
   ],
   "cell_type": "markdown",
   "metadata": {}
  }
 ]
}
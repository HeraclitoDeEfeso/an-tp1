{
 "cells": [
  {
   "cell_type": "markdown",
   "metadata": {},
   "source": [
    "#### Ejercicio 5\n",
    "Si quiero calcular $\\sum_{n=1}^{\\infty} x_n$ con un error menor a $\\epsilon$, \n",
    "dejo de sumar cuando $\\left|x_n\\right|<\\epsilon$? Ver con $\\sum_{n=1}^{\\infty} (0.99)^n$\n",
    "y distintos valores de $\\epsilon$. Recordar que $\\sum_{n=1}^{\\infty} r^n=\\frac{r}{1-r}$\n",
    "si $\\left|r\\right|<1$.\n",
    "\n",
    "##### Solución:\n",
    "\n",
    "Para un valor $r=0.99$ es claro que la serie converge a $99$, por lo que primero \n",
    "definiremos una función que calcule la suma parcial de la sucesión asociada hasta un \n",
    "término que sea inferior a un $\\epsilon$ dado. "
   ]
  },
  {
   "cell_type": "code",
   "execution_count": 1,
   "metadata": {},
   "outputs": [],
   "source": [
    "from itertools import takewhile, count\n",
    "def serie_geom(razon, minimo):\n",
    "    return sum(razon**x for x in takewhile(\n",
    "                   lambda x:abs( razon**x ) > minimo,\n",
    "                   count(start=1)))"
   ]
  },
  {
   "cell_type": "markdown",
   "metadata": {},
   "source": [
    "Con ayuda de nuestra función auxiliar `tabla()` (cuyo código se lista en los Anexos) presentamos los valores de la suma parcial ($S_n$) y el error absoluto ($\\varepsilon$) para distintas cotas superiores ($\\epsilon$) del último término a incluir en la sumatoria.  "
   ]
  },
  {
   "cell_type": "code",
   "execution_count": 2,
   "metadata": {},
   "outputs": [
    {
     "data": {
      "text/markdown": [
       "|$\\epsilon$|$S_n$|$\\varepsilon$|\n",
       "|:-:|:-:|:-:\n",
       "|0.1|89.08951844811239|9.910481551887614|\n",
       "|0.01|98.00790257989588|0.9920974201041162|\n",
       "|0.001|98.90068522040785|0.09931477959214874|\n",
       "|0.0001|98.99005800716175|0.009941992838250258|\n",
       "|1e-05|98.99900474811493|0.0009952518850724346|\n"
      ],
      "text/plain": [
       "<IPython.core.display.Markdown object>"
      ]
     },
     "metadata": {},
     "output_type": "display_data"
    }
   ],
   "source": [
    "from auxiliares import tabla\n",
    "tabla(range(-1,-6,-1),\n",
    "      ['$\\epsilon$', '$S_n$', '$\\\\varepsilon$'],\n",
    "      [lambda x: 10**x,\n",
    "       lambda x: serie_geom(0.99, 10**x),\n",
    "       lambda x: 99 - serie_geom(0.99, 10**x)])"
   ]
  },
  {
   "cell_type": "markdown",
   "metadata": {},
   "source": [
    "Como es posible observar, el error absoluto es dos órdenes superior a la cota elegida para el último término de la suma parcial, de manera que si queremos calcular $\\sum_{n=1}^{\\infty} (0.99)^n$ de forma iterativa y con un error menor a $\\epsilon$ debemos dejar de sumar cuando $\\left|x_n\\right|<\\epsilon\\times 10^{-2}$ "
   ]
  },
  {
   "cell_type": "markdown",
   "metadata": {},
   "source": [
    "#### Ejercicio 6\n",
    "\n",
    "Escribir un programa para calcular\n",
    "\n",
    "$$f(x)=\\sqrt{x^2+1}-1$$\n",
    "$$g(x)=\\frac{x^2}{\\sqrt{x^2+1}+1}$$\n",
    "\n",
    "para la sucesión $8^{-1},8^{-2},8^{-3},\\dotso,8^{-10}$. Aunque \n",
    "$f(x)=g(x)$ la computadora produce resultados distintos, cuál \n",
    "es más confiable?\n",
    "\n",
    "##### Solución\n",
    "\n",
    "Definimos las dos funciones $f(x)$ y $g(x)$ para comparar sus resultados."
   ]
  },
  {
   "cell_type": "code",
   "execution_count": 3,
   "metadata": {},
   "outputs": [],
   "source": [
    "from math import sqrt\n",
    "def f(x):\n",
    "    return sqrt(x ** 2 + 1) - 1\n",
    "def g(x):\n",
    "    return x ** 2 / (sqrt(x ** 2 + 1) + 1)"
   ]
  },
  {
   "cell_type": "markdown",
   "metadata": {},
   "source": [
    "Usamos la función auxiliar `tabla()` para presentar los \n",
    "resultados de las funciones para cada uno de los elementos \n",
    "de la sucesión $8^{-1},8^{-2},8^{-3},\\dotso,8^{-10}$"
   ]
  },
  {
   "cell_type": "code",
   "execution_count": 4,
   "metadata": {},
   "outputs": [
    {
     "data": {
      "text/markdown": [
       "|x|f(x)|g(x)|\n",
       "|:-:|:-:|:-:\n",
       "|0.125|0.0077822185373186414|0.0077822185373187065|\n",
       "|0.015625|0.00012206286282867573|0.00012206286282875901|\n",
       "|0.001953125|1.9073468138230965e-06|1.907346813826566e-06|\n",
       "|0.000244140625|2.9802321943606103e-08|2.9802321943606116e-08|\n",
       "|3.0517578125e-05|4.656612873077393e-10|4.6566128719931904e-10|\n",
       "|3.814697265625e-06|7.275957614183426e-12|7.275957614156956e-12|\n",
       "|4.76837158203125e-07|1.1368683772161603e-13|1.1368683772160957e-13|\n",
       "|5.960464477539063e-08|1.7763568394002505e-15|1.7763568394002489e-15|\n",
       "|7.450580596923828e-09|0.0|2.7755575615628914e-17|\n",
       "|9.313225746154785e-10|0.0|4.336808689942018e-19|\n"
      ],
      "text/plain": [
       "<IPython.core.display.Markdown object>"
      ]
     },
     "metadata": {},
     "output_type": "display_data"
    }
   ],
   "source": [
    "tabla([8 ** x for x in range(-1,-11,-1)], [\"x\", \"f(x)\", \"g(x)\"], [repr, f, g])"
   ]
  },
  {
   "cell_type": "markdown",
   "metadata": {},
   "source": [
    "Como es posible observar, cuando $x$ tiende a cero, la función $f(x)$ \n",
    "colapsa antes que la función $g(x)$ perdiendo todos sus dígitos \n",
    "significativos.\n",
    "\n",
    "Descompongamos los términos más relevantes de nuestras funciones en la\n",
    "siguiente tabla para un mejor seguimiento de la propagación de errores."
   ]
  },
  {
   "cell_type": "code",
   "execution_count": 8,
   "metadata": {},
   "outputs": [
    {
     "data": {
      "text/markdown": [
       "|x|$x^2$|$x^2+1$|\n",
       "|:-:|:-:|:-:\n",
       "|0.125|0.015625|1.015625|\n",
       "|0.015625|0.000244140625|1.000244140625|\n",
       "|0.001953125|3.814697265625e-06|1.0000038146972656|\n",
       "|0.000244140625|5.960464477539063e-08|1.0000000596046448|\n",
       "|3.0517578125e-05|9.313225746154785e-10|1.0000000009313226|\n",
       "|3.814697265625e-06|1.4551915228366852e-11|1.000000000014552|\n",
       "|4.76837158203125e-07|2.2737367544323206e-13|1.0000000000002274|\n",
       "|5.960464477539063e-08|3.552713678800501e-15|1.0000000000000036|\n",
       "|7.450580596923828e-09|5.551115123125783e-17|1.0|\n",
       "|9.313225746154785e-10|8.673617379884035e-19|1.0|\n"
      ],
      "text/plain": [
       "<IPython.core.display.Markdown object>"
      ]
     },
     "metadata": {},
     "output_type": "display_data"
    }
   ],
   "source": [
    "tabla([8**x for x in range(-1,-11,-1)],[\"x\",\"$x^2$\",\"$x^2+1$\"],[repr,lambda x:x**2,lambda x:x**2+1])"
   ]
  },
  {
   "cell_type": "markdown",
   "metadata": {},
   "source": [
    "Aquí se revela que el problema proviene de la suma de dos \n",
    "números de muy distintos órdenes, lo que produce la pérdida\n",
    "de los dígitos significativos y el colapso de la función $f(x)$.\n",
    "Para el caso de la función $g(x)$ esta pérdida de dígitos\n",
    "no resulta catastrófica (si bien implica la propogación de\n",
    "un error) debido a que su resultado final implica la \n",
    "multiplicación (o potencia) y la división, operaciones cuyo\n",
    "error no se ve amplificado en igual medida por la diferencia de\n",
    "órdenes entre los operandos."
   ]
  },
  {
   "cell_type": "markdown",
   "metadata": {},
   "source": [
    "#### Ejercicio 7\n",
    "\n",
    "Escribir un algoritmo para estimar el número de máquina."
   ]
  },
  {
   "cell_type": "markdown",
   "metadata": {},
   "source": [
    "#### Ejercicio 8\n",
    "\n",
    "Sean\n",
    "\n",
    "$$ x=[ 2.718281828, -3.141592654, 1.414213562, 0.5772156649, 0.3010299957] $$\n",
    "$$ y=[ 1486.2497  ,  878366.9879, -22.37429  , 4773714.647 , 0.000185049 ] $$\n",
    "\n",
    "Calcular $\\sum_{i=1}^n x_i y_i$ de la siguientes maneras:\n",
    "\n",
    "1.  para adelante : $\\sum_{i=1}^n  x_i y_i$\n",
    "2.  para atrás : $\\sum_{i=n}^1 x_i y_i$\n",
    "3.  positivos de mayor a menor + negativos de menor a mayor\n",
    "4.  positivos de menor a mayor + negativos de mayor a menor\n",
    "    \n",
    "Cuál resultado es más confiable y por qué?"
   ]
  },
  {
   "cell_type": "markdown",
   "metadata": {},
   "source": [
    "#### Ejercicio 9\n",
    "\n",
    "Considerar la sucesión \n",
    "\n",
    "$$ x_0 = 1,  x_1 = \\frac{1}{3} $$\n",
    "$$ x_{n+1} = \\frac{13}{3}x_n - \\frac{4}{3}x_{n-1} $$\n",
    "\n",
    "Dar una fórmula cerrada para $x_n$. Escribir un programa que calcule $x_n$ de \n",
    "ambas formas y comparar <b><sup data_cite=\"bib:none\">[1]</sup></b>. Cuál es más confiable? Por qué?"
   ]
  },
  {
   "cell_type": "markdown",
   "metadata": {},
   "source": [
    "#### Ejercicio 10\n",
    "\n",
    "Consideremos la siguiente modificación de la serie de Fibonacci : \n",
    "\n",
    "$$ r_0 = 1,   r_1 = \\frac{1 - \\sqrt{5}}{2} $$\n",
    "$$ r_{n+1} = r_n + r_{n-1} $$\n",
    "\n",
    "Cuál es la fórmula cerrada $r_n$? Es la fórmula recursiva una manera estable de calcular $r_n$? \n",
    "Comparar con el ejercicio anterior."
   ]
  },
  {
   "cell_type": "markdown",
   "metadata": {},
   "source": [
    "#### Ejercicio 11\n",
    "\n",
    "Sea\n",
    "\n",
    "$$ y_n= \\int_{0}^{1} x^n e^x dx $$\n",
    "\n",
    "Integrar por partes para obtener una fórmula recurrente para $y_n$. Mostrar que \n",
    "$\\lim_{n \\to \\infty} y_n=1$. Hacer un programa para calcular los primeros 30 \n",
    "términos de $y_n$ y analizar los resultados."
   ]
  },
  {
   "cell_type": "code",
   "execution_count": null,
   "metadata": {},
   "outputs": [],
   "source": []
  }
 ],
 "metadata": {
  "kernelspec": {
   "display_name": "Python 3",
   "language": "python",
   "name": "python3"
  },
  "language_info": {
   "codemirror_mode": {
    "name": "ipython",
    "version": 3
   },
   "file_extension": ".py",
   "mimetype": "text/x-python",
   "name": "python",
   "nbconvert_exporter": "python",
   "pygments_lexer": "ipython3",
   "version": "3.7.4"
  },
  "metadata": {
   "interpreter": {
    "hash": "0600588c3b5f4418cbe7b5ebc6825b479f3bc010269d8b60d75058cdd010adfe"
   }
  },
  "toc-autonumbering": false,
  "toc-showcode": false,
  "toc-showmarkdowntxt": false
 },
 "nbformat": 4,
 "nbformat_minor": 4
}

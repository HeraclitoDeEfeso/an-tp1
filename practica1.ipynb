{
 "cells": [
  {
   "cell_type": "markdown",
   "metadata": {},
   "source": [
    "#### Ejercicio 5\n",
    "Si quiero calcular $\\sum_{n=1}^{\\infty} x_n$ con un error menor a $\\epsilon$, \n",
    "dejo de sumar cuando $\\left|x_n\\right|<\\epsilon$? Ver con $\\sum_{n=1}^{\\infty} (0.99)^n$\n",
    "y distintos valores de $\\epsilon$. Recordar que $\\sum_{n=1}^{\\infty} r^n=\\frac{r}{1-r}$\n",
    "si $\\left|r\\right|<1$.\n",
    "\n",
    "##### Solucion:\n",
    "\n",
    "Para un valor $r=0.99$ es claro que la serie converge a $99$, por lo que primero \n",
    "definiremos una función que calcule la suma parcial de la sucesión asociada hasta un \n",
    "término que sea inferior a un $\\epsilon$ dado. "
   ]
  },
  {
   "cell_type": "code",
   "execution_count": 1,
   "metadata": {},
   "outputs": [],
   "source": [
    "from itertools import takewhile, count\n",
    "def serie_geom(razon, minimo):\n",
    "    return sum(\n",
    "        razon ** x\n",
    "        for x in takewhile(lambda x: abs(razon ** x) > minimo, count(start=1))\n",
    "    )"
   ]
  },
  {
   "cell_type": "markdown",
   "metadata": {},
   "source": [
    "Con ayuda de nuestra función auxiliar `tabla()` (cuyo código se lista en los Anexos) presentamos los valores de la suma parcial ($S_n$) y el error absoluto ($\\varepsilon$) para distintas cotas superiores ($\\epsilon$) del último término a incluir en la sumatoria.  "
   ]
  },
  {
   "cell_type": "code",
   "execution_count": 2,
   "metadata": {},
   "outputs": [
    {
     "data": {
      "text/markdown": [
       "|$\\epsilon$|$S_n$|$\\bigtriangleup$|\n",
       "|:-:|:-:|:-:\n",
       "|0.1|89.08951844811239|9.910481551887614|\n",
       "|0.01|98.00790257989588|0.9920974201041162|\n",
       "|0.001|98.90068522040785|0.09931477959214874|\n",
       "|0.0001|98.99005800716175|0.009941992838250258|\n",
       "|1e-05|98.99900474811493|0.0009952518850724346|\n"
      ],
      "text/plain": [
       "<IPython.core.display.Markdown object>"
      ]
     },
     "metadata": {},
     "output_type": "display_data"
    }
   ],
   "source": [
    "from auxiliares import tabla\n",
    "tabla(\n",
    "    range(-1, -6, -1),\n",
    "    [\"$\\epsilon$\",\"$S_n$\", \"$\\\\bigtriangleup$\"],\n",
    "    [\n",
    "        lambda x: 10 ** x,\n",
    "        lambda x: serie_geom(0.99, 10 ** x),\n",
    "        lambda x: abs(99 - serie_geom(0.99, 10 ** x)),\n",
    "    ],\n",
    ")"
   ]
  },
  {
   "cell_type": "markdown",
   "metadata": {},
   "source": [
    "Como es posible observar, el error absoluto es dos órdenes superior a la cota elegida para el último término de la suma parcial, de manera que si queremos calcular $\\sum_{n=1}^{\\infty} (0.99)^n$ de forma iterativa y con un error menor a $\\epsilon$ debemos dejar de sumar cuando $\\left|x_n\\right|<\\epsilon\\times 10^{-2}$ "
   ]
  },
  {
   "cell_type": "markdown",
   "metadata": {},
   "source": [
    "#### Ejercicio 6\n",
    "\n",
    "Escribir un programa para calcular\n",
    "\n",
    "$$f(x)=\\sqrt{x^2+1}-1$$\n",
    "$$g(x)=\\frac{x^2}{\\sqrt{x^2+1}+1}$$\n",
    "\n",
    "para la sucesión $8^{-1},8^{-2},8^{-3},\\dotso,8^{-10}$. Aunque \n",
    "$f(x)=g(x)$ la computadora produce resultados distintos, cuál \n",
    "es más confiable?\n",
    "\n",
    "##### Solucion\n",
    "\n",
    "Definimos las dos funciones $f(x)$ y $g(x)$ para comparar sus resultados."
   ]
  },
  {
   "cell_type": "code",
   "execution_count": 3,
   "metadata": {},
   "outputs": [],
   "source": [
    "from math import sqrt\n",
    "def f(x):\n",
    "    return sqrt(x ** 2 + 1) - 1\n",
    "def g(x):\n",
    "    return x ** 2 / (sqrt(x ** 2 + 1) + 1)"
   ]
  },
  {
   "cell_type": "markdown",
   "metadata": {},
   "source": [
    "Usamos la función auxiliar `tabla()` para presentar los \n",
    "resultados de las funciones para cada uno de los elementos \n",
    "de la sucesión $8^{-1},8^{-2},8^{-3},\\dotso,8^{-10}$"
   ]
  },
  {
   "cell_type": "code",
   "execution_count": 4,
   "metadata": {},
   "outputs": [
    {
     "data": {
      "text/markdown": [
       "|x|f(x)|g(x)|\n",
       "|:-:|:-:|:-:\n",
       "|0.125|0.0077822185373186414|0.0077822185373187065|\n",
       "|0.015625|0.00012206286282867573|0.00012206286282875901|\n",
       "|0.001953125|1.9073468138230965e-06|1.907346813826566e-06|\n",
       "|0.000244140625|2.9802321943606103e-08|2.9802321943606116e-08|\n",
       "|3.0517578125e-05|4.656612873077393e-10|4.6566128719931904e-10|\n",
       "|3.814697265625e-06|7.275957614183426e-12|7.275957614156956e-12|\n",
       "|4.76837158203125e-07|1.1368683772161603e-13|1.1368683772160957e-13|\n",
       "|5.960464477539063e-08|1.7763568394002505e-15|1.7763568394002489e-15|\n",
       "|7.450580596923828e-09|0.0|2.7755575615628914e-17|\n",
       "|9.313225746154785e-10|0.0|4.336808689942018e-19|\n"
      ],
      "text/plain": [
       "<IPython.core.display.Markdown object>"
      ]
     },
     "metadata": {},
     "output_type": "display_data"
    }
   ],
   "source": [
    "tabla(\n",
    "    [8 ** x for x in range(-1,-11,-1)],\n",
    "    [\"x\", \"f(x)\", \"g(x)\"],\n",
    "    [repr, f, g]\n",
    ")"
   ]
  },
  {
   "cell_type": "markdown",
   "metadata": {},
   "source": [
    "Como es posible observar, cuando $x$ tiende a cero, la función $f(x)$ \n",
    "colapsa antes que la función $g(x)$ perdiendo todos sus dígitos \n",
    "significativos.\n",
    "\n",
    "Descompongamos los términos más relevantes de nuestras funciones en la\n",
    "siguiente tabla para un mejor seguimiento de la propagación de errores."
   ]
  },
  {
   "cell_type": "code",
   "execution_count": 5,
   "metadata": {},
   "outputs": [
    {
     "data": {
      "text/markdown": [
       "|x|$x^2$|$x^2+1$|\n",
       "|:-:|:-:|:-:\n",
       "|0.125|0.015625|1.015625|\n",
       "|0.015625|0.000244140625|1.000244140625|\n",
       "|0.001953125|3.814697265625e-06|1.0000038146972656|\n",
       "|0.000244140625|5.960464477539063e-08|1.0000000596046448|\n",
       "|3.0517578125e-05|9.313225746154785e-10|1.0000000009313226|\n",
       "|3.814697265625e-06|1.4551915228366852e-11|1.000000000014552|\n",
       "|4.76837158203125e-07|2.2737367544323206e-13|1.0000000000002274|\n",
       "|5.960464477539063e-08|3.552713678800501e-15|1.0000000000000036|\n",
       "|7.450580596923828e-09|5.551115123125783e-17|1.0|\n",
       "|9.313225746154785e-10|8.673617379884035e-19|1.0|\n"
      ],
      "text/plain": [
       "<IPython.core.display.Markdown object>"
      ]
     },
     "metadata": {},
     "output_type": "display_data"
    }
   ],
   "source": [
    "tabla(\n",
    "    [8 ** x for x in range(-1,-11,-1)],\n",
    "    [\"x\", \"$x^2$\", \"$x^2+1$\"],\n",
    "    [\n",
    "        repr,\n",
    "        lambda x: x ** 2,\n",
    "        lambda x: x ** 2 + 1\n",
    "    ]\n",
    ")"
   ]
  },
  {
   "cell_type": "markdown",
   "metadata": {},
   "source": [
    "Aquí se revela que el problema proviene de la suma de dos \n",
    "números de muy distintos órdenes, lo que produce la pérdida\n",
    "de los dígitos significativos y el colapso de la función $f(x)$.\n",
    "Para el caso de la función $g(x)$ esta pérdida de dígitos\n",
    "no resulta catastrófica (si bien implica la propogación de\n",
    "un error) debido a que su resultado final implica la \n",
    "multiplicación (o potencia) y la división, operaciones cuyo\n",
    "error no se ve amplificado en igual medida por la diferencia de\n",
    "órdenes entre los operandos."
   ]
  },
  {
   "cell_type": "markdown",
   "metadata": {},
   "source": [
    "#### Ejercicio 7\n",
    "\n",
    "Escribir un algoritmo para estimar el número de máquina.\n",
    "\n",
    "##### Solucion\n",
    "\n",
    "Definimos a continuación una función que dado un número \n",
    "fraccional positivo menor a uno, nos estime su \n",
    "representación normal con 24 dígitos significativos:"
   ]
  },
  {
   "cell_type": "code",
   "execution_count": 6,
   "metadata": {},
   "outputs": [],
   "source": [
    "def maquina(x):\n",
    "    digitos = []\n",
    "    exponente = 0\n",
    "    while x * 2 < 1:\n",
    "        exponente += 1\n",
    "        x = (x * 2) % 1\n",
    "    for _ in range(24):\n",
    "        digitos.append(0 if x * 2 < 1 else 1)\n",
    "        x = (x * 2) % 1\n",
    "    repre = \".\" + \"\".join(map(str,digitos))\n",
    "    if x * 2 >= 1:\n",
    "        if sum(digitos) == 24:\n",
    "            repre = \"1\"\n",
    "        else:\n",
    "            repre = \".\" + bin(int(repre[1:], 2) + 1)[2:]\n",
    "    if exponente > 0:\n",
    "        repre = repre + \"p\" + str(-exponente) \n",
    "    return repre"
   ]
  },
  {
   "cell_type": "markdown",
   "metadata": {},
   "source": [
    "Para comparar su funcionamiento utilizaremos algunas funciones \n",
    "propias del lenguaje que manipulan la representación interna\n",
    "de los números flotantes y definimos con ellas otra función\n",
    "que la \"desempaque\". También tomamos como dominio los decimales\n",
    "entre cero y uno para simplificar evitando la manipulación de\n",
    "signos."
   ]
  },
  {
   "cell_type": "code",
   "execution_count": 7,
   "metadata": {},
   "outputs": [],
   "source": [
    "from struct import pack, unpack\n",
    "def maquina2(x):\n",
    "    binario = format(unpack('!I', pack('!f', x))[0], '032b')\n",
    "    return \".1\" + binario[-23:] + \"p\" + str(int(binario[1:9], 2) - 126)"
   ]
  },
  {
   "cell_type": "markdown",
   "metadata": {},
   "source": [
    "Finalmente las comparamos en la siguiente tabla\n",
    "contra varios números decimales:"
   ]
  },
  {
   "cell_type": "code",
   "execution_count": 8,
   "metadata": {},
   "outputs": [
    {
     "data": {
      "text/markdown": [
       "|x|Función|Lenguaje|\n",
       "|:-:|:-:|:-:\n",
       "|0.5|.100000000000000000000000|.100000000000000000000000p0|\n",
       "|0.3333333333333333|.101010101010101010101011p-1|.101010101010101010101011p-1|\n",
       "|0.25|.100000000000000000000000p-1|.100000000000000000000000p-1|\n",
       "|0.2|.110011001100110011001101p-2|.110011001100110011001101p-2|\n",
       "|0.16666666666666666|.101010101010101010101011p-2|.101010101010101010101011p-2|\n",
       "|0.14285714285714285|.100100100100100100100101p-2|.100100100100100100100101p-2|\n",
       "|0.125|.100000000000000000000000p-2|.100000000000000000000000p-2|\n",
       "|0.1111111111111111|.111000111000111000111001p-3|.111000111000111000111001p-3|\n",
       "|0.1|.110011001100110011001101p-3|.110011001100110011001101p-3|\n",
       "|0.09090909090909091|.101110100010111010001100p-3|.101110100010111010001100p-3|\n",
       "|0.08333333333333333|.101010101010101010101011p-3|.101010101010101010101011p-3|\n",
       "|0.07692307692307693|.100111011000100111011001p-3|.100111011000100111011001p-3|\n",
       "|0.07142857142857142|.100100100100100100100101p-3|.100100100100100100100101p-3|\n",
       "|0.06666666666666667|.100010001000100010001001p-3|.100010001000100010001001p-3|\n",
       "|0.0625|.100000000000000000000000p-3|.100000000000000000000000p-3|\n",
       "|0.058823529411764705|.111100001111000011110001p-4|.111100001111000011110001p-4|\n",
       "|0.05555555555555555|.111000111000111000111001p-4|.111000111000111000111001p-4|\n",
       "|0.05263157894736842|.110101111001010000110110p-4|.110101111001010000110110p-4|\n",
       "|0.05|.110011001100110011001101p-4|.110011001100110011001101p-4|\n"
      ],
      "text/plain": [
       "<IPython.core.display.Markdown object>"
      ]
     },
     "metadata": {},
     "output_type": "display_data"
    }
   ],
   "source": [
    "tabla(\n",
    "    [1 / x for x in range(2, 21)],\n",
    "    [\"x\", \"Función\", \"Lenguaje\"],\n",
    "    [repr, maquina, maquina2]\n",
    ")"
   ]
  },
  {
   "cell_type": "markdown",
   "metadata": {},
   "source": [
    "#### Ejercicio 8\n",
    "\n",
    "Sean\n",
    "\n",
    "$$ x=[ 2.718281828, -3.141592654, 1.414213562, 0.5772156649, 0.3010299957] $$\n",
    "\n",
    "$$ y=[ 1486.2497  ,  878366.9879, -22.37429  , 4773714.647 , 0.000185049 ] $$\n",
    "\n",
    "Calcular $\\sum_{i=1}^n x_i y_i$ de la siguientes maneras:\n",
    "\n",
    "1.  para adelante : $\\sum_{i=1}^n  x_i y_i$\n",
    "2.  para atrás : $\\sum_{i=n}^1 x_i y_i$\n",
    "3.  positivos de mayor a menor + negativos de menor a mayor\n",
    "4.  positivos de menor a mayor + negativos de mayor a menor\n",
    "    \n",
    "Cuál resultado es más confiable y por qué?\n",
    "\n",
    "##### Solucion\n",
    "\n",
    "Definimos nuestros dos vectores para realizar las sumatorias:"
   ]
  },
  {
   "cell_type": "code",
   "execution_count": 9,
   "metadata": {},
   "outputs": [],
   "source": [
    "x=[ 2.718281828, -3.141592654, 1.414213562, 0.5772156649, 0.3010299957] \n",
    "y=[ 1486.2497  ,  878366.9879, -22.37429  , 4773714.647 , 0.000185049 ] "
   ]
  },
  {
   "cell_type": "markdown",
   "metadata": {},
   "source": [
    "Obtenemos ahora el producto elemento a elemento de ambos vectores para\n",
    "aplicarlo a los distintos ordenamientos de la sumatoria:"
   ]
  },
  {
   "cell_type": "code",
   "execution_count": 10,
   "metadata": {},
   "outputs": [],
   "source": [
    "z1 = [x[i] * y[i] for i in range(5)]"
   ]
  },
  {
   "cell_type": "markdown",
   "metadata": {},
   "source": [
    "Sumamos con los índices definidos de forma creciente:"
   ]
  },
  {
   "cell_type": "code",
   "execution_count": 11,
   "metadata": {},
   "outputs": [
    {
     "data": {
      "text/plain": [
       "0.0008909545001375842"
      ]
     },
     "execution_count": 11,
     "metadata": {},
     "output_type": "execute_result"
    }
   ],
   "source": [
    "sum(z1)"
   ]
  },
  {
   "cell_type": "markdown",
   "metadata": {},
   "source": [
    "Sumamos ahora con los índices definidos de forma decreciente:"
   ]
  },
  {
   "cell_type": "code",
   "execution_count": 12,
   "metadata": {},
   "outputs": [
    {
     "data": {
      "text/plain": [
       "0.0008909542411856819"
      ]
     },
     "execution_count": 12,
     "metadata": {},
     "output_type": "execute_result"
    }
   ],
   "source": [
    "z2 = list(reversed(z1))\n",
    "sum(z2)"
   ]
  },
  {
   "cell_type": "markdown",
   "metadata": {},
   "source": [
    "En principio podemos ya observar una diferencia a partir del séptimo dígito significativo\n",
    "(con los número en su forma normalizada). Continuamos separando los términos positivos de\n",
    "los negativos para aplicarles diferentes ordenamientos en la sumatoria:"
   ]
  },
  {
   "cell_type": "code",
   "execution_count": 13,
   "metadata": {},
   "outputs": [],
   "source": [
    "pos = list(filter(lambda x: x > 0, z1))\n",
    "neg = list(filter(lambda x: x < 0, z1))"
   ]
  },
  {
   "cell_type": "markdown",
   "metadata": {},
   "source": [
    "Ahora sumamos los terminos, primero los positivos de forma decreciente y\n",
    "los negativos de forma creciente:"
   ]
  },
  {
   "cell_type": "code",
   "execution_count": 14,
   "metadata": {},
   "outputs": [
    {
     "data": {
      "text/plain": [
       "0.0008909545454685031"
      ]
     },
     "execution_count": 14,
     "metadata": {},
     "output_type": "execute_result"
    }
   ],
   "source": [
    "z3 = list((list(reversed(sorted(pos)))) + (list(sorted(neg))))\n",
    "sum(z3)"
   ]
  },
  {
   "cell_type": "markdown",
   "metadata": {},
   "source": [
    "Finalmente sumamos los terminos, primero los positivos de forma creciente\n",
    "y los negativos de forma decreciente:"
   ]
  },
  {
   "cell_type": "code",
   "execution_count": 15,
   "metadata": {},
   "outputs": [
    {
     "data": {
      "text/plain": [
       "0.0008909543976187706"
      ]
     },
     "execution_count": 15,
     "metadata": {},
     "output_type": "execute_result"
    }
   ],
   "source": [
    "z4 = list((list(sorted(pos))) + (list(reversed(sorted(neg)))))\n",
    "sum(z4)"
   ]
  },
  {
   "cell_type": "markdown",
   "metadata": {},
   "source": [
    "Como podemos apreciar, nuevamente tenemos diferencias a partir del séptimo \n",
    "dígito significativo de la forma normalizada.\n",
    "\n",
    "Analizaremos con la siguiente tabla las sumas parciales de \n",
    "cada ordenamiento:"
   ]
  },
  {
   "cell_type": "code",
   "execution_count": 16,
   "metadata": {},
   "outputs": [
    {
     "data": {
      "text/markdown": [
       "|Terminos sumados|Hacia adelante|Hacia atrás|Pos.dec.neg.crec|Pos.crec.neg.dec|\n",
       "|:-:|:-:|:-:|:-:|:-:\n",
       "|1|4040.045551380452|5.57052996742893e-05|2755462.8740109736|5.57052996742893e-05|\n",
       "|2|-2755431.231151366|2755462.874066679|2759502.919562354|4040.0456070857513|\n",
       "|3|-2755462.8731757244|2755431.2320423205|2759502.9196180594|2759502.9196180594|\n",
       "|4|0.000835249200463295|-4040.0446604262106|31.642915312666446|2759471.277593701|\n",
       "|5|0.0008909545001375842|0.0008909542411856819|0.0008909545454685031|0.0008909543976187706|\n"
      ],
      "text/plain": [
       "<IPython.core.display.Markdown object>"
      ]
     },
     "metadata": {},
     "output_type": "display_data"
    }
   ],
   "source": [
    "tabla(\n",
    "    range(1, len(z1) + 1),\n",
    "    [\n",
    "        \"Terminos sumados\", \n",
    "        \"Hacia adelante\", \n",
    "        \"Hacia atrás\", \n",
    "        \"Pos.dec.neg.crec\", \n",
    "        \"Pos.crec.neg.dec\"\n",
    "    ],\n",
    "    [\n",
    "        repr, \n",
    "        lambda x: sum(z1[:x]), \n",
    "        lambda x: sum(z2[:x]), \n",
    "        lambda x: sum(z3[:x]), \n",
    "        lambda x: sum(z4[:x]) \n",
    "    ]\n",
    ")"
   ]
  },
  {
   "cell_type": "markdown",
   "metadata": {},
   "source": [
    "En general podemos decir que\n",
    "las sumatorias de términos crecientes reduce la propagación de errores, \n",
    "mientras que las substracciones de números cercanos pueden introducir \n",
    "mayores errores, por lo que estaríamos dispuestos a considerar que el\n",
    "último ordenamiento resulta el más confiable."
   ]
  },
  {
   "cell_type": "markdown",
   "metadata": {},
   "source": [
    "#### Ejercicio 9\n",
    "\n",
    "Considerar la sucesión \n",
    "\n",
    "$$ x_0 = 1,  x_1 = \\frac{1}{3} $$\n",
    "$$ x_{n+1} = \\frac{13}{3}x_n - \\frac{4}{3}x_{n-1} $$\n",
    "\n",
    "Dar una fórmula cerrada para $x_n$. Escribir un programa que calcule $x_n$ de \n",
    "ambas formas y comparar. Cuál es más confiable? Por qué?\n",
    "\n",
    "##### Solucion\n",
    "\n",
    "Nuestra sucesión tiene una fórmula recursiva lineal y homogénea por lo que \n",
    "aplicamos la solución:\n",
    "\n",
    "$$ x_n = K_1 r_1^n + K_2 r_2^n $$\n",
    "\n",
    "Obtenemos primeramente las raices de la cuadrática caracteristica:\n",
    "\n",
    "$$ r_{1,2} = \\frac{\\frac{13}{3} \\pm \\sqrt{\\frac{13}{3}^2 - 4\\frac{4}{3}}}{2} $$\n",
    "$$ r_1 = 4 ; r_2 = \\frac{1}{3} $$\n",
    "\n",
    "Despejamos las constantes $K_1$ y $K_2$ a partir de las condiciones\n",
    "iniciales dadas por $x_0$ y $x_1$:\n",
    "    \n",
    "$$ K_1 = \\frac{\\begin{vmatrix}1 & 1 \\\\ \\frac{1}{3} & \\frac{1}{3} \\end{vmatrix}}{\n",
    "               \\begin{vmatrix}1 & 1 \\\\ 4 & \\frac{1}{3} \\end{vmatrix}} \n",
    "       = 0 $$\n",
    "\n",
    "$$ K_2 = \\frac{\\begin{vmatrix}1 & 1 \\\\ 4 & \\frac{1}{3} \\end{vmatrix}}{\n",
    "               \\begin{vmatrix}1 & 1 \\\\ 4 & \\frac{1}{3} \\end{vmatrix}} \n",
    "       = 1 $$\n",
    "\n",
    "Por lo que nuestra fórmula cerrada es:\n",
    "    \n",
    "$$ x_n = \\left(\\frac{1}{3}\\right)^n $$\n",
    "\n",
    "Omitimos la comprobación por ser evidente y pasamos a definir las dos\n",
    "funciones que calcularán los elementos de la sucesión una con la \n",
    "fórmula recursiva y otra con la fórmula cerrada: "
   ]
  },
  {
   "cell_type": "code",
   "execution_count": 17,
   "metadata": {},
   "outputs": [],
   "source": [
    "def recurX(n):\n",
    "    return   1 if n == 0 else \\\n",
    "           1/3 if n == 1 else \\\n",
    "           recurX(n-1) * 13 / 3 - recurX(n-2) * 4 / 3\n",
    "def cerrX(n):\n",
    "    return 1 / 3 ** n"
   ]
  },
  {
   "cell_type": "markdown",
   "metadata": {},
   "source": [
    "Generamos a continuación una tabla con los primero diez términos\n",
    "de la sucesión para analizar la confiabilidad de ambas y su\n",
    "diferencia ($\\bigtriangleup$) absoluta:"
   ]
  },
  {
   "cell_type": "code",
   "execution_count": 18,
   "metadata": {},
   "outputs": [
    {
     "data": {
      "text/markdown": [
       "|n|Recursiva|Cerrada|$\\bigtriangleup$|\n",
       "|:-:|:-:|:-:|:-:\n",
       "|0|1|1.0|0.0|\n",
       "|1|0.3333333333333333|0.3333333333333333|0.0|\n",
       "|2|0.11111111111111116|0.1111111111111111|5.551115123125783e-17|\n",
       "|3|0.03703703703703726|0.037037037037037035|2.220446049250313e-16|\n",
       "|4|0.012345679012346567|0.012345679012345678|8.881784197001252e-16|\n",
       "|5|0.0041152263374521075|0.00411522633744856|3.5475095083725705e-15|\n",
       "|6|0.0013717421124970416|0.0013717421124828531|1.4188520150448802e-14|\n",
       "|7|0.000457247370884371|0.0004572473708276177|5.6753267450165845e-14|\n",
       "|8|0.00015241579050288552|0.00015241579027587258|2.2701293427539182e-13|\n",
       "|9|5.080526433334266e-05|5.080526342529086e-05|9.080518048642031e-13|\n",
       "|10|1.693509144063752e-05|1.6935087808430286e-05|3.6322072330093394e-12|\n"
      ],
      "text/plain": [
       "<IPython.core.display.Markdown object>"
      ]
     },
     "metadata": {},
     "output_type": "display_data"
    }
   ],
   "source": [
    "tabla(\n",
    "    range(11),\n",
    "    [\n",
    "        \"n\",\n",
    "        \"Recursiva\",\n",
    "        \"Cerrada\",\n",
    "        \"$\\\\bigtriangleup$\"\n",
    "    ],\n",
    "    [repr, recurX, cerrX, lambda x: abs(recurX(x) - cerrX(x))]\n",
    ")"
   ]
  },
  {
   "cell_type": "markdown",
   "metadata": {},
   "source": [
    "Su diferencia absoluta parece aumentar rápidamente en cinco\n",
    "órdenes de magnitud en sólo 10 términos. Verifiquemos esto\n",
    "con los siguientes diez términos expresendo el error \n",
    "relativo con respecto de la fórmula cerrada:"
   ]
  },
  {
   "cell_type": "code",
   "execution_count": 19,
   "metadata": {},
   "outputs": [
    {
     "data": {
      "text/markdown": [
       "|n|Recursiva|Cerrada|$\\varepsilon_{cerr}$|\n",
       "|:-:|:-:|:-:|:-:\n",
       "|10|1.693509144063752e-05|1.6935087808430286e-05|2.144782049019685e-07|\n",
       "|11|5.6450437983056984e-06|5.645029269476762e-06|2.5737384595738685e-06|\n",
       "|12|1.8817345384746695e-06|1.8816764231589208e-06|3.088486151679955e-05|\n",
       "|13|6.274579356493032e-07|6.272254743863069e-07|0.00037061833820395786|\n",
       "|14|2.1000500318075444e-07|2.0907515812876897e-07|0.0044474200584499|\n",
       "|15|7.341109958419834e-08|6.969171937625632e-08|0.0533690407014007|\n",
       "|16|3.8108093957186915e-08|2.3230573125418773e-08|0.6404284884168112|\n",
       "|17|6.72536077022122e-08|7.743524375139592e-09|7.685141861001738|\n",
       "|18|2.4062150810000363e-07|2.581174791713197e-09|92.22170233202087|\n",
       "|19|9.530217248303994e-07|8.603915972377324e-10|1106.6604279842504|\n"
      ],
      "text/plain": [
       "<IPython.core.display.Markdown object>"
      ]
     },
     "metadata": {},
     "output_type": "display_data"
    }
   ],
   "source": [
    "tabla(\n",
    "    range(10, 20),\n",
    "    [\n",
    "        \"n\",\n",
    "        \"Recursiva\",\n",
    "        \"Cerrada\",\n",
    "        \"$\\\\varepsilon_{cerr}$\"\n",
    "    ],\n",
    "    [repr, recurX, cerrX, lambda x: (recurX(x) - cerrX(x)) / cerrX(x)]\n",
    ")"
   ]
  },
  {
   "cell_type": "markdown",
   "metadata": {},
   "source": [
    "Tanto la resta de la fórmula recursiva como la representación\n",
    "flotante de los coeficientes introducen en la propagación de\n",
    "errores una magnitud del 5% ya en el término décimo quinto\n",
    "con respecto a la fórmula cerrada que sólo incluye la \n",
    "multiplicación (potencia) y una división. Por este motivo la\n",
    "consideramos a esta última más confiable."
   ]
  },
  {
   "cell_type": "markdown",
   "metadata": {},
   "source": [
    "#### Ejercicio 10\n",
    "\n",
    "Consideremos la siguiente modificación de la serie de Fibonacci : \n",
    "\n",
    "$$ r_0 = 1,   r_1 = \\frac{1 - \\sqrt{5}}{2} $$\n",
    "$$ r_{n+1} = r_n + r_{n-1} $$\n",
    "\n",
    "Cuál es la fórmula cerrada $r_n$? Es la fórmula recursiva una manera estable de calcular $r_n$? \n",
    "Comparar con el ejercicio anterior.\n",
    "\n",
    "##### Solucion\n",
    "\n",
    "Nuevamente nos encontramos frente a una sucesión cuya fórmula recursiva\n",
    "es lineal y homogénea, por lo que obviando la explicitación de los pasos\n",
    "dados en el ejercicio anterior, obtenemos las raíces de su cuadrática\n",
    "carcaterística y resolvemos el sistema de ecuaciones para hallar los \n",
    "coeficientes de su fórmula cerrada:\n",
    "\n",
    "$$ r_{1,2} = \\frac{-(-1) \\pm \\sqrt{(-1)^2 - 4(-1)}}{2} $$\n",
    "\n",
    "$$ r_{1,2} = \\frac{1 \\pm \\sqrt{5}}{2} $$\n",
    "    \n",
    "$$ K_1 = \\frac{\\begin{vmatrix}1 & 1 \\\\ \\frac{1 - \\sqrt{5}}{2} & \\frac{1 - \\sqrt{5}}{2}\\end{vmatrix}}{\n",
    "               \\begin{vmatrix}1 & 1 \\\\ \\frac{1 + \\sqrt{5}}{2} & \\frac{1 - \\sqrt{5}}{2}\\end{vmatrix}} \n",
    "       = 0 $$\n",
    "\n",
    "$$ K_2 = \\frac{\\begin{vmatrix}1 & 1 \\\\ \\frac{1 + \\sqrt{5}}{2} & \\frac{1 - \\sqrt{5}}{2}\\end{vmatrix}}{\n",
    "               \\begin{vmatrix}1 & 1 \\\\ \\frac{1 + \\sqrt{5}}{2} & \\frac{1 - \\sqrt{5}}{2}\\end{vmatrix}} \n",
    "       = 1 $$\n",
    "\n",
    "Por lo que nuestra fórmula cerrada es:\n",
    "\n",
    "$$ r_n = \\left( {\\frac{1 - \\sqrt{5}}{2}} \\right)^n $$\n",
    "\n",
    "Definimos ahora nuestras funciones para la fórmula recursiva y la\n",
    "cerrada, utilizando en este caso (previendo una mayor estabilidad\n",
    "para la fórmula recursiva) un algoritmo iterativo en vez de recursivo:"
   ]
  },
  {
   "cell_type": "code",
   "execution_count": 20,
   "metadata": {},
   "outputs": [],
   "source": [
    "def recurR(n):\n",
    "    acc1 = 1\n",
    "    acc2 = (1 - sqrt(5)) / 2\n",
    "    if n == 0:\n",
    "        return acc1\n",
    "    if n == 1:\n",
    "        return acc2\n",
    "    while n > 2:\n",
    "        aux = acc2\n",
    "        acc2 += acc1 \n",
    "        acc1 = aux\n",
    "        n -= 1\n",
    "    return acc2 + acc1\n",
    "def cerrR(n):\n",
    "    return ((1 - sqrt(5)) ** n) / (2 ** n)"
   ]
  },
  {
   "cell_type": "markdown",
   "metadata": {},
   "source": [
    "Generamos también una tabla con los primeros diez términos obtenidos con ambas fórmulas, y su diferencia:"
   ]
  },
  {
   "cell_type": "code",
   "execution_count": 21,
   "metadata": {},
   "outputs": [
    {
     "data": {
      "text/markdown": [
       "|n|Recursiva|Cerrada|$\\bigtriangleup$|\n",
       "|:-:|:-:|:-:|:-:\n",
       "|0|1|1.0|0.0|\n",
       "|1|-0.6180339887498949|-0.6180339887498949|0.0|\n",
       "|2|0.3819660112501051|0.3819660112501052|1.1102230246251565e-16|\n",
       "|3|-0.2360679774997898|-0.23606797749978975|5.551115123125783e-17|\n",
       "|4|0.1458980337503153|0.14589803375031551|2.220446049250313e-16|\n",
       "|5|-0.09016994374947451|-0.09016994374947428|2.3592239273284576e-16|\n",
       "|6|0.05572809000084078|0.055728090000841245|4.649058915617843e-16|\n",
       "|7|-0.03444185374863373|-0.034441853748633046|6.869504964868156e-16|\n",
       "|8|0.021286236252207047|0.021286236252208202|1.1553258350005535e-15|\n",
       "|9|-0.013155617496426686|-0.013155617496424849|1.8370721610594387e-15|\n",
       "|10|0.008130618755780361|0.008130618755783355|2.994132719535969e-15|\n"
      ],
      "text/plain": [
       "<IPython.core.display.Markdown object>"
      ]
     },
     "metadata": {},
     "output_type": "display_data"
    }
   ],
   "source": [
    "tabla(\n",
    "    range(11),\n",
    "    [\n",
    "        \"n\",\n",
    "        \"Recursiva\",\n",
    "        \"Cerrada\",\n",
    "        \"$\\\\bigtriangleup$\"\n",
    "    ],\n",
    "    [repr, recurR, cerrR, lambda x: abs(recurR(x) - cerrR(x))]\n",
    ")"
   ]
  },
  {
   "cell_type": "markdown",
   "metadata": {},
   "source": [
    "En principio es posible observar que en los primeros diez\n",
    "términos la diferencia entre la fórmula recursiva y la cerrada\n",
    "ha aumentado en un solo orden de magnitud, a la vez que hemos\n",
    "conservado doce dígitos significativos en su forma normalizada, \n",
    "por lo que podemos decir que la fórmula recursiva se comporta\n",
    "mucho mejor que la del ejercicio anterior. Ampliaremos el\n",
    "análisis con diez términos a partir del trigésimo, tomando para\n",
    "la comparación el error relativo con respecto a la fórmula\n",
    "cerrada:"
   ]
  },
  {
   "cell_type": "code",
   "execution_count": 22,
   "metadata": {},
   "outputs": [
    {
     "data": {
      "text/markdown": [
       "|n|Recursiva|Cerrada|$\\varepsilon_{cerr}$|\n",
       "|:-:|:-:|:-:|:-:\n",
       "|30|5.374453024842296e-07|5.374904998555718e-07|8.40896189873099e-05|\n",
       "|31|-3.322605284239444e-07|-3.321873975409138e-07|0.00022014948060023346|\n",
       "|32|2.0518477406028524e-07|2.05303102314658e-07|0.000576358822826748|\n",
       "|33|-1.2707575436365914e-07|-1.2688429522625587e-07|0.0015089269878661865|\n",
       "|34|7.810901969662609e-08|7.841880708840217e-08|0.0039504221407863005|\n",
       "|35|-4.896673466703305e-08|-4.846548813785372e-08|0.010342339434477621|\n",
       "|36|2.914228502959304e-08|2.995331895054845e-08|0.02707659616266203|\n",
       "|37|-1.982444963744001e-08|-1.8512169187305274e-08|0.07088744905349256|\n",
       "|38|9.317835392153029e-09|1.1441149763243178e-08|0.1855857509978317|\n",
       "|39|-1.0506614245286983e-08|-7.071019424062098e-09|0.485869803939986|\n"
      ],
      "text/plain": [
       "<IPython.core.display.Markdown object>"
      ]
     },
     "metadata": {},
     "output_type": "display_data"
    }
   ],
   "source": [
    "tabla(\n",
    "    range(30, 40),\n",
    "    [\n",
    "        \"n\",\n",
    "        \"Recursiva\",\n",
    "        \"Cerrada\",\n",
    "        \"$\\\\varepsilon_{cerr}$\"\n",
    "    ],\n",
    "    [repr, recurR, cerrR, lambda x: abs((recurR(x) - cerrR(x)) / cerrR(x))]\n",
    ")"
   ]
  },
  {
   "cell_type": "markdown",
   "metadata": {},
   "source": [
    "Comprobamos que recién para $n = 35$ la fórmula recursiva\n",
    "presenta un \"error\" relativo con respecto a la fórmula \n",
    "cerrada de 1%, por lo que concluímos que es una forma más \n",
    "estable de calcular la sucesión con respecto a la fórmula\n",
    "recursiva del ejercicio anterior."
   ]
  },
  {
   "cell_type": "markdown",
   "metadata": {},
   "source": [
    "#### Ejercicio 11\n",
    "\n",
    "Sea\n",
    "\n",
    "$$ y_n= \\int_{0}^{1} x^n e^x dx $$\n",
    "\n",
    "Integrar por partes para obtener una fórmula recurrente para $y_n$. Mostrar que \n",
    "$\\lim_{n \\to \\infty} y_n=1$. Hacer un programa para calcular los primeros 30 \n",
    "términos de $y_n$ y analizar los resultados.\n",
    "\n",
    "##### Solucion\n",
    "\n",
    "Integramos por partes para obtener una fórmula recursiva de la siguiente forma:\n",
    "    \n",
    "$$ u = x^n $$\n",
    "$$ dv = e^x dx $$\n",
    "\n",
    "$$ y_n = \\left. x^n e^x \\right|_0^1 - n\\int_0^1 x^{n-1} e^x dx $$\n",
    "$$ y_n = e - n y_{n-1} $$\n",
    "\n",
    "Sabiendo que \n",
    "\n",
    "$$ y_0 = \\int_0^1 e^x dx = \\left. e^x \\right|_0^1 = e - 1 $$\n",
    "\n",
    "Mostramos ahora que la sucesión converge ya que\n",
    "\n",
    "$$ \\lim_{n \\to \\infty} y_n = \\lim_{n \\to \\infty} \\int_{0}^{1} x^n e^x dx $$\n",
    "$$ \\lim_{n \\to \\infty} y_n = \\int_{0}^{1} \\left[ \\lim_{n \\to \\infty} x^n e^x \\text{ para } x \\in (0,1) \\right] dx $$ \n",
    "\n",
    "Como \n",
    "\n",
    "$$ \\lim_{n \\to \\infty} x^n = 0 \\text{ para } x \\in (0,1) $$\n",
    "\n",
    "Y además\n",
    "\n",
    "$$ e^x < e \\text{ para } x \\in (0, 1) $$\n",
    "\n",
    "Ya que el límite de un infinitésimo por una función acotada es cero,\n",
    "toda la integral es cero en el límite y por tanto la sucesión converge.\n",
    "\n",
    "También desarrollando la fórmula recursiva en sus primeros términos es posible\n",
    "ver un patrón:\n",
    "\n",
    "$$ y_0 =                       e -  1 $$\n",
    "$$ y_1 = e -  (  e - 1) = ( 0) e +  1 $$\n",
    "$$ y_2 = e - 2(      1) = ( 1) e -  2 $$\n",
    "$$ y_3 = e - 3(  e - 2) = (-2) e +  6 $$\n",
    "$$ y_4 = e - 4(-2e + 6) =  (9) e - 24 $$\n",
    "\n",
    "De manera que $y_n$ puede expresarse como la suma de dos sucesiones:\n",
    "\n",
    "$$ y_n = a_n e + b_n $$\n",
    "\n",
    "Donde \n",
    "\n",
    "$$ a_0 = 1 $$\n",
    "$$ a_n = 1 - n a_{n-1} $$\n",
    "$$ b_n = (-1)^{n+1} !n $$\n",
    "\n",
    "Estas sucesiones tienen la ventaja de operar sobre naturales y \n",
    "postergar para el final la multiplicación por la constante de \n",
    "Euler cuya precisión depende de nuestro lenguaje, por lo que las\n",
    "utilizaremos para compararla con nuestra primer fórmula recursiva.\n",
    "Las definimos en código a continuación:"
   ]
  },
  {
   "cell_type": "code",
   "execution_count": 23,
   "metadata": {},
   "outputs": [],
   "source": [
    "from math import e, factorial\n",
    "def recurY1(n):\n",
    "    return e - 1 if n == 0 else e - n * recurY1(n-1)\n",
    "def recurA(n):\n",
    "    return 1 if n == 0 else 1 - n * recurA(n-1)\n",
    "def recurY2(n):\n",
    "    return recurA(n) * e + (-1) ** (n + 1) * factorial(n)"
   ]
  },
  {
   "cell_type": "markdown",
   "metadata": {},
   "source": [
    "Calcularemos ahora los primeros treinta términos de las sucesiones\n",
    "y compararemos sus diferencias en la siguiente tabla:"
   ]
  },
  {
   "cell_type": "code",
   "execution_count": 24,
   "metadata": {},
   "outputs": [
    {
     "data": {
      "text/markdown": [
       "|n|Recursiva Y1|Recursiva Y2|$\\bigtriangleup$|\n",
       "|:-:|:-:|:-:|:-:\n",
       "|0|1.718281828459045|1.718281828459045|0.0|\n",
       "|1|1.0|1.0|0.0|\n",
       "|2|0.7182818284590451|0.7182818284590451|0.0|\n",
       "|3|0.5634363430819098|0.5634363430819098|0.0|\n",
       "|4|0.4645364561314058|0.4645364561314054|4.440892098500626e-16|\n",
       "|5|0.395599547802016|0.39559954780202133|5.329070518200751e-15|\n",
       "|6|0.34468454164694906|0.34468454164698414|3.5083047578154947e-14|\n",
       "|7|0.30549003693040166|0.3054900369306779|2.7622348852673895e-13|\n",
       "|8|0.27436153301583177|0.2743615330182365|2.404743071338089e-12|\n",
       "|9|0.24902803131655915|0.24902803130680695|9.752199048307375e-12|\n",
       "|10|0.22800151529345358|0.2280015153810382|8.75846062342589e-11|\n",
       "|11|0.21026516023105568|0.2102651596069336|6.241220873448583e-10|\n",
       "|12|0.19509990568637692|0.19509989023208618|1.5454290736016674e-08|\n",
       "|13|0.18198305453614516|0.18198299407958984|6.045655531750072e-08|\n",
       "|14|0.17051906495301283|0.1705169677734375|2.0971795753332856e-06|\n",
       "|15|0.1604958541638526|0.160400390625|9.546353885259151e-05|\n",
       "|16|0.15034816183740363|0.1484375|0.0019106618374036266|\n",
       "|17|0.16236307722318344|0.1875|0.02513692277681656|\n",
       "|18|-0.2042535615582568|0.0|0.2042535615582568|\n",
       "|19|6.599099498065924|16.0|9.400900501934075|\n",
       "|20|-129.26370813285942|0.0|129.26370813285942|\n",
       "|21|2717.256152618507|0.0|2717.256152618507|\n",
       "|22|-59776.91707577869|0.0|59776.91707577869|\n",
       "|23|1374871.8110247385|0.0|1374871.8110247385|\n",
       "|24|-32996920.746311896|0.0|32996920.746311896|\n",
       "|25|824923021.3760792|2147483648.0|1322560626.623921|\n",
       "|26|-21447998553.05978|0.0|21447998553.05978|\n",
       "|27|579095960935.3323|0.0|579095960935.3323|\n",
       "|28|-16214686906186.586|0.0|16214686906186.586|\n",
       "|29|470225920279413.7|0.0|470225920279413.7|\n",
       "|30|-1.4106777608382408e+16|-3.602879701896397e+16|2.192201941058156e+16|\n"
      ],
      "text/plain": [
       "<IPython.core.display.Markdown object>"
      ]
     },
     "metadata": {},
     "output_type": "display_data"
    }
   ],
   "source": [
    "tabla(\n",
    "    range(31),\n",
    "    [\n",
    "        \"n\",\n",
    "        \"Recursiva Y1\",\n",
    "        \"Recursiva Y2\",\n",
    "        \"$\\\\bigtriangleup$\"\n",
    "    ],\n",
    "    [repr, recurY1, recurY2, lambda x: abs(recurY1(x) - recurY2(x))]\n",
    ")"
   ]
  },
  {
   "cell_type": "markdown",
   "metadata": {},
   "source": [
    "Dos fenómenos es posible observar en la tabla: la función\n",
    "recursiva original se vuelve alternada, por una parte y \n",
    "por la otra, la función de coeficientes enteros colapsa\n",
    "con comportamiento errático (como en los términos 19, 25, etc.).\n",
    "Esto es indicativo de que nuestra sucesión alcanza rápidamente\n",
    "el límite de representación de nuestra máquina, volviéndose\n",
    "inutilizable su resultado a partir de allí. También la precisión \n",
    "con la cual nuestro\n",
    "lenguaje expresa el número irracional correspondiente a la\n",
    "constante de Euler está jugando un rol en el comportamiento\n",
    "de ambas fórmulas, lo que podemos observar en la pérdida de \n",
    "precisión de nuestra segunda fórmula recursiva."
   ]
  }
 ],
 "metadata": {
  "kernelspec": {
   "display_name": "Python 3",
   "language": "python",
   "name": "python3"
  },
  "language_info": {
   "codemirror_mode": {
    "name": "ipython",
    "version": 3
   },
   "file_extension": ".py",
   "mimetype": "text/x-python",
   "name": "python",
   "nbconvert_exporter": "python",
   "pygments_lexer": "ipython3",
   "version": "3.7.4"
  },
  "metadata": {
   "interpreter": {
    "hash": "0600588c3b5f4418cbe7b5ebc6825b479f3bc010269d8b60d75058cdd010adfe"
   }
  },
  "toc-autonumbering": false,
  "toc-showcode": false,
  "toc-showmarkdowntxt": false
 },
 "nbformat": 4,
 "nbformat_minor": 4
}
